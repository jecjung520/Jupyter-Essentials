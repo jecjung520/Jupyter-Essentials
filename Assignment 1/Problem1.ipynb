{
 "cells": [
  {
   "cell_type": "markdown",
   "metadata": {},
   "source": [
    "# Input training datapoints"
   ]
  },
  {
   "cell_type": "code",
   "execution_count": null,
   "metadata": {},
   "outputs": [],
   "source": [
    "import numpy as np\n",
    "\n",
    "X1 = np.array([[2,3,4,3,5,5,2,4,0,6], [3,2,4,2,4,3,8,6,0,5]])\n",
    "X2 = np.array([[7,9,10,11,9,13,9,11,11,10], [16,15,13,11,17,13,14,15,14,12]])\n",
    "Xtest = np.array([[4, 10, 10], [0, 2.5, 12.5]])"
   ]
  },
  {
   "cell_type": "markdown",
   "metadata": {},
   "source": [
    "# Import functions from GaussianDiscriminantAnalysis.py"
   ]
  },
  {
   "cell_type": "code",
   "execution_count": 2,
   "metadata": {},
   "outputs": [],
   "source": [
    "from GaussianDiscriminantAnalysis import GaussianDiscriminantAnalysis, plot_GDA"
   ]
  },
  {
   "cell_type": "markdown",
   "metadata": {},
   "source": [
    "# Train model"
   ]
  },
  {
   "cell_type": "code",
   "execution_count": 3,
   "metadata": {},
   "outputs": [
    {
     "name": "stdout",
     "output_type": "stream",
     "text": [
      "Prior Probability of Class1:\n",
      " 0.5\n",
      "Mean vector of Class1:\n",
      " [[3.4]\n",
      " [3.7]]\n",
      "Mean vector of Class2:\n",
      " [[10.]\n",
      " [14.]]\n",
      "Covariance matrix of Class1:\n",
      " [[2.84 1.32]\n",
      " [1.32 4.61]]\n",
      "Covariance matrix of Class2:\n",
      " [[ 2.4 -1.5]\n",
      " [-1.5  3. ]]\n",
      "Mean covariance matrix:\n",
      " [[ 2.62  -0.09 ]\n",
      " [-0.09   3.805]]\n",
      "w in decision boundary:\n",
      " [[-2.61419536]\n",
      " [-2.76879831]]\n",
      "w0 in decision boundary:\n",
      " [[42.018974]]\n"
     ]
    }
   ],
   "source": [
    "prior1, mean1, mean2, cov1, cov2, cov, w, w0 = GaussianDiscriminantAnalysis(X1, X2)\n",
    "\n",
    "print(\"Prior Probability of Class1:\\n\",prior1)\n",
    "print(\"Mean vector of Class1:\\n\",mean1)\n",
    "print(\"Mean vector of Class2:\\n\",mean2)\n",
    "print(\"Covariance matrix of Class1:\\n\",cov1)\n",
    "print(\"Covariance matrix of Class2:\\n\",cov2)\n",
    "print(\"Mean covariance matrix:\\n\",cov)\n",
    "print(\"w in decision boundary:\\n\",w)\n",
    "print(\"w0 in decision boundary:\\n\",w0)"
   ]
  },
  {
   "cell_type": "markdown",
   "metadata": {},
   "source": [
    "# Plot all training datapoints and decision boundary"
   ]
  },
  {
   "cell_type": "code",
   "execution_count": 4,
   "metadata": {},
   "outputs": [
    {
     "data": {
      "image/png": "[encoded data removed]",
      "text/plain": [
       "<Figure size 432x288 with 1 Axes>"
      ]
     },
     "metadata": {
      "needs_background": "light"
     },
     "output_type": "display_data"
    }
   ],
   "source": [
    "plot_GDA(X1, X2, w, w0)"
   ]
  },
  {
   "cell_type": "markdown",
   "metadata": {},
   "source": [
    "# Classify test datapoints"
   ]
  },
  {
   "cell_type": "code",
   "execution_count": 5,
   "metadata": {},
   "outputs": [
    {
     "name": "stdout",
     "output_type": "stream",
     "text": [
      "Data point 1 belongs to Class 1\n",
      "Data point 2 belongs to Class 1\n",
      "Data point 3 belongs to Class 2\n"
     ]
    }
   ],
   "source": [
    "# classify the test data points into Class 1 and Class 2\n",
    "for i in range(Xtest.shape[1]):\n",
    "    x = Xtest[:, i].reshape(-1, 1)\n",
    "    y = w.T.dot(x) + w0\n",
    "    if y > 0:\n",
    "        print(\"Data point\", i+1, \"belongs to Class 1\")\n",
    "    else:\n",
    "        print(\"Data point\", i+1, \"belongs to Class 2\")\n"
   ]
  }
 ],
 "metadata": {
  "kernelspec": {
   "display_name": "Python 3",
   "language": "python",
   "name": "python3"
  },
  "language_info": {
   "codemirror_mode": {
    "name": "ipython",
    "version": 3
   },
   "file_extension": ".py",
   "mimetype": "text/x-python",
   "name": "python",
   "nbconvert_exporter": "python",
   "pygments_lexer": "ipython3",
   "version": "3.8.5"
  }
 },
 "nbformat": 4,
 "nbformat_minor": 4
}
