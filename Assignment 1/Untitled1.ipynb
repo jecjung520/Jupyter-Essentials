{
 "cells": [
  {
   "cell_type": "code",
   "execution_count": 37,
   "metadata": {},
   "outputs": [],
   "source": [
    "# X1 = np.array([[4,2,2,3,4], [1,4,3,6,4]])\n",
    "# X2 = np.array([[9,6,9,8,10], [10,8,5,7,8]])\n",
    "import numpy as np\n",
    "\n",
    "X1 = np.array([[2,3,4,3,5,5,2,4,0,6], [3,2,4,2,4,3,8,6,0,5]])\n",
    "X2 = np.array([[7,9,10,11,9,13,9,11,11,10], [16,15,13,11,17,13,14,15,14,12]])\n",
    "Xtest = np.array([[4, 10, 10], [0, 2.5, 12.5]])"
   ]
  },
  {
   "cell_type": "code",
   "execution_count": 38,
   "metadata": {},
   "outputs": [
    {
     "name": "stdout",
     "output_type": "stream",
     "text": [
      "Prior Probability: 0.5\n",
      "Mean Vector 1: [[3.4]\n",
      " [3.7]]\n",
      "Mean Vector 2: [[10.]\n",
      " [14.]]\n",
      "Covariance Matrix 1:  [[2.84 1.32]\n",
      " [1.32 4.61]]\n",
      "Covariance Matrix 2:  [[ 2.4 -1.5]\n",
      " [-1.5  3. ]]\n",
      "Mean Covariance Matrix: [[ 2.62  -0.09 ]\n",
      " [-0.09   3.805]]\n",
      "w weighted average: [[-2.61419536]\n",
      " [-2.76879831]]\n",
      "wo in decision boundary: [[42.018974]]\n"
     ]
    }
   ],
   "source": [
    "from GaussianDiscriminantAnalysis import GaussianDiscriminantAnalysis\n",
    "\n",
    "prior1, mean1, mean2, cov1, cov2, cov, w, w0 = GaussianDiscriminantAnalysis(X1, X2)\n",
    "\n",
    "print(\"Prior Probability:\", prior1)\n",
    "print(\"Mean Vector 1:\", mean1)\n",
    "print(\"Mean Vector 2:\", mean2)\n",
    "print(\"Covariance Matrix 1: \", cov1)\n",
    "print(\"Covariance Matrix 2: \", cov2)\n",
    "print(\"Mean Covariance Matrix:\", cov)\n",
    "print(\"w weighted average:\", w)\n",
    "print(\"wo in decision boundary:\", w0)"
   ]
  },
  {
   "cell_type": "code",
   "execution_count": 55,
   "metadata": {},
   "outputs": [
    {
     "ename": "NameError",
     "evalue": "name 'plt' is not defined",
     "output_type": "error",
     "traceback": [
      "\u001b[1;31m---------------------------------------------------------------------------\u001b[0m",
      "\u001b[1;31mNameError\u001b[0m                                 Traceback (most recent call last)",
      "\u001b[1;32m<ipython-input-55-78a50376d0f5>\u001b[0m in \u001b[0;36m<module>\u001b[1;34m\u001b[0m\n\u001b[0;32m      6\u001b[0m \u001b[1;32mfrom\u001b[0m \u001b[0mGaussianDiscriminantAnalysis\u001b[0m \u001b[1;32mimport\u001b[0m \u001b[0mGaussianDiscriminantAnalysis\u001b[0m\u001b[1;33m,\u001b[0m \u001b[0mplot_GDA\u001b[0m\u001b[1;33m\u001b[0m\u001b[1;33m\u001b[0m\u001b[0m\n\u001b[0;32m      7\u001b[0m \u001b[1;33m\u001b[0m\u001b[0m\n\u001b[1;32m----> 8\u001b[1;33m \u001b[0mplot_GDA\u001b[0m\u001b[1;33m(\u001b[0m\u001b[0mX1\u001b[0m\u001b[1;33m,\u001b[0m \u001b[0mX2\u001b[0m\u001b[1;33m,\u001b[0m \u001b[0mw\u001b[0m\u001b[1;33m,\u001b[0m \u001b[0mw0\u001b[0m\u001b[1;33m)\u001b[0m\u001b[1;33m\u001b[0m\u001b[1;33m\u001b[0m\u001b[0m\n\u001b[0m",
      "\u001b[1;32m~\\EE4146\\Assignment 1\\GaussianDiscriminantAnalysis.py\u001b[0m in \u001b[0;36mplot_GDA\u001b[1;34m(X1, X2, w, w0)\u001b[0m\n\u001b[0;32m     40\u001b[0m \u001b[1;32mdef\u001b[0m \u001b[0mplot_GDA\u001b[0m\u001b[1;33m(\u001b[0m\u001b[0mX1\u001b[0m\u001b[1;33m,\u001b[0m \u001b[0mX2\u001b[0m\u001b[1;33m,\u001b[0m \u001b[0mw\u001b[0m\u001b[1;33m,\u001b[0m \u001b[0mw0\u001b[0m\u001b[1;33m)\u001b[0m\u001b[1;33m:\u001b[0m\u001b[1;33m\u001b[0m\u001b[1;33m\u001b[0m\u001b[0m\n\u001b[0;32m     41\u001b[0m     \u001b[1;32mimport\u001b[0m \u001b[0mmatplotlib\u001b[0m\u001b[1;33m.\u001b[0m\u001b[0mpyplot\u001b[0m \u001b[1;32mas\u001b[0m \u001b[0mplt\u001b[0m\u001b[1;33m\u001b[0m\u001b[1;33m\u001b[0m\u001b[0m\n\u001b[1;32m---> 42\u001b[1;33m \u001b[1;33m\u001b[0m\u001b[0m\n\u001b[0m\u001b[0;32m     43\u001b[0m     \u001b[1;31m# plot the training data points\u001b[0m\u001b[1;33m\u001b[0m\u001b[1;33m\u001b[0m\u001b[1;33m\u001b[0m\u001b[0m\n\u001b[0;32m     44\u001b[0m     \u001b[0mplt\u001b[0m\u001b[1;33m.\u001b[0m\u001b[0mscatter\u001b[0m\u001b[1;33m(\u001b[0m\u001b[0mX1\u001b[0m\u001b[1;33m[\u001b[0m\u001b[1;36m0\u001b[0m\u001b[1;33m,\u001b[0m \u001b[1;33m:\u001b[0m\u001b[1;33m]\u001b[0m\u001b[1;33m,\u001b[0m \u001b[0mX1\u001b[0m\u001b[1;33m[\u001b[0m\u001b[1;36m1\u001b[0m\u001b[1;33m,\u001b[0m \u001b[1;33m:\u001b[0m\u001b[1;33m]\u001b[0m\u001b[1;33m,\u001b[0m \u001b[0mc\u001b[0m\u001b[1;33m=\u001b[0m\u001b[1;34m'b'\u001b[0m\u001b[1;33m,\u001b[0m \u001b[0mlabel\u001b[0m\u001b[1;33m=\u001b[0m\u001b[1;34m'Class 1'\u001b[0m\u001b[1;33m)\u001b[0m\u001b[1;33m\u001b[0m\u001b[1;33m\u001b[0m\u001b[0m\n",
      "\u001b[1;31mNameError\u001b[0m: name 'plt' is not defined"
     ]
    }
   ],
   "source": [
    "X1 = np.array([[2,3,4,3,5,5,2,4,0,6], [3,2,4,2,4,3,8,6,0,5]])\n",
    "X2 = np.array([[7,9,10,11,9,13,9,11,11,10], [16,15,13,11,17,13,14,15,14,12]])\n",
    "\n",
    "prior1, mean1, mean2, cov1, cov2, cov, w, w0 = GaussianDiscriminantAnalysis(X1, X2)\n",
    "\n",
    "from GaussianDiscriminantAnalysis import GaussianDiscriminantAnalysis, plot_GDA\n",
    "\n",
    "plot_GDA(X1, X2, w, w0)"
   ]
  },
  {
   "cell_type": "code",
   "execution_count": 42,
   "metadata": {},
   "outputs": [
    {
     "data": {
      "image/png": "[encoded data removed]",
      "text/plain": [
       "<Figure size 432x288 with 1 Axes>"
      ]
     },
     "metadata": {
      "needs_background": "light"
     },
     "output_type": "display_data"
    }
   ],
   "source": [
    "import numpy as np\n",
    "import matplotlib.pyplot as plt\n",
    "\n",
    "def plot_GDA(X1, X2, w, w0):\n",
    "\n",
    "    # plot the training data points\n",
    "    plt.scatter(X1[0, :], X1[1, :], c='b', label='Class 1')\n",
    "    plt.scatter(X2[0, :], X2[1, :], c='r', label='Class 2')\n",
    "\n",
    "    # plot the decision boundary\n",
    "    x1 = np.array([np.min(X1), np.max(X1)])\n",
    "    x2 = -(w[0] * x1 + w0) / w[1]\n",
    "    plt.plot(x1, x2.reshape(-1,), 'g', label='Decision Boundary')\n",
    "\n",
    "    plt.xlabel('x1')\n",
    "    plt.ylabel('x2')\n",
    "    plt.legend()\n",
    "    plt.show()\n",
    "\n",
    "plot_GDA(X1, X2, w, w0)"
   ]
  },
  {
   "cell_type": "code",
   "execution_count": 43,
   "metadata": {},
   "outputs": [
    {
     "name": "stdout",
     "output_type": "stream",
     "text": [
      "Data point 1 belongs to Class 1\n",
      "Data point 2 belongs to Class 1\n",
      "Data point 3 belongs to Class 2\n"
     ]
    }
   ],
   "source": [
    "import numpy as np\n",
    "\n",
    "X1 = np.array([[2, 3, 4, 3, 5, 5, 2, 4, 0, 6], [3, 2, 4, 2, 4, 3, 8, 6, 0, 5]])\n",
    "X2 = np.array([[7, 9, 10, 11, 9, 13, 9, 11, 11, 10], [16, 15, 13, 11, 17, 13, 14, 15, 14, 12]])\n",
    "Xtest = np.array([[4, 10, 10], [0, 2.5, 12.5]])\n",
    "\n",
    "prior1, mean1, mean2, cov1, cov2, cov, w, w0 = GaussianDiscriminantAnalysis(X1, X2)\n",
    "\n",
    "# classify the test data points into Class 1 and Class 2\n",
    "for i in range(Xtest.shape[1]):\n",
    "    x = Xtest[:, i].reshape(-1, 1)\n",
    "    y = w.T.dot(x) + w0\n",
    "    if y > 0:\n",
    "        print(\"Data point\", i+1, \"belongs to Class 1\")\n",
    "    else:\n",
    "        print(\"Data point\", i+1, \"belongs to Class 2\")\n"
   ]
  },
  {
   "cell_type": "code",
   "execution_count": null,
   "metadata": {},
   "outputs": [],
   "source": [
    "from GaussianDiscriminantAnalysis import GaussianDiscriminantAnalysis plot_GDA\n",
    "\n",
    "GaussianDiscriminantAnalysis(X1, X2)\n",
    "\n"
   ]
  }
 ],
 "metadata": {
  "kernelspec": {
   "display_name": "Python 3",
   "language": "python",
   "name": "python3"
  },
  "language_info": {
   "codemirror_mode": {
    "name": "ipython",
    "version": 3
   },
   "file_extension": ".py",
   "mimetype": "text/x-python",
   "name": "python",
   "nbconvert_exporter": "python",
   "pygments_lexer": "ipython3",
   "version": "3.8.5"
  }
 },
 "nbformat": 4,
 "nbformat_minor": 4
}
