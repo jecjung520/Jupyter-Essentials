{
 "cells": [
  {
   "cell_type": "code",
   "execution_count": 2,
   "metadata": {},
   "outputs": [],
   "source": [
    "import numpy as np\n",
    "\n",
    "def GaussianDiscriminantAnalysis(X1, X2):\n",
    "    # Calculate the prior probability of Class 1\n",
    "    N1 = X1.shape[1]\n",
    "    N2 = X2.shape[1]\n",
    "    N = N1 + N2\n",
    "    prior_prob_class1 = N1 / N\n",
    "    \n",
    "    # Calculate the mean vectors of two classes\n",
    "    mean_vector_X1 = np.mean(X1, axis=1).reshape(-1, 1)\n",
    "    mean_vector_X2 = np.mean(X2, axis=1).reshape(-1, 1)\n",
    "    \n",
    "    # Calculate the covariance matrices S1 and S2\n",
    "    S1 = np.cov(X1)\n",
    "    S2 = np.cov(X2)\n",
    "    \n",
    "    # Calculate the mean covariance matrix S\n",
    "    S = ((N1 - 1) * S1 + (N2 - 1) * S2) / (N - 2)\n",
    "    \n",
    "    # Calculate w and w0 in the decision boundary equation\n",
    "    w = np.linalg.inv(S).dot(mean_vector_X1 - mean_vector_X2)\n",
    "    w0 = - 0.5 * mean_vector_X1.T.dot(np.linalg.inv(S)).dot(mean_vector_X1) + 0.5 * mean_vector_X2.T.dot(np.linalg.inv(S)).dot(mean_vector_X2) + np.log(prior_prob_class1 / (1 - prior_prob_class1))\n",
    "    return prior_prob_class1, mean_vector_X1, mean_vector_X2, S1, S2, S, w, w0"
   ]
  },
  {
   "cell_type": "code",
   "execution_count": 12,
   "metadata": {},
   "outputs": [
    {
     "data": {
      "text/plain": [
       "array([[ 7,  9, 10, 11,  9, 13,  9, 11, 11, 10],\n",
       "       [16, 15, 13, 11, 17, 13, 14, 15, 14, 12]])"
      ]
     },
     "execution_count": 12,
     "metadata": {},
     "output_type": "execute_result"
    }
   ],
   "source": [
    "X1 = np.array([[2, 3, 4, 3, 5, 5, 2, 4, 0, 6], [3, 2, 4, 2, 4, 3, 8, 6, 0, 5]])\n",
    "X2 = np.array([[7, 9, 10, 11, 9, 13, 9, 11, 11, 10], [16, 15, 13, 11, 17, 13, 14, 15, 14, 12]])"
   ]
  },
  {
   "cell_type": "code",
   "execution_count": 13,
   "metadata": {},
   "outputs": [
    {
     "data": {
      "text/plain": [
       "(0.5,\n",
       " array([[3.4],\n",
       "        [3.7]]),\n",
       " array([[10.],\n",
       "        [14.]]),\n",
       " array([[3.15555556, 1.46666667],\n",
       "        [1.46666667, 5.12222222]]),\n",
       " array([[ 2.66666667, -1.66666667],\n",
       "        [-1.66666667,  3.33333333]]),\n",
       " array([[ 2.91111111, -0.1       ],\n",
       "        [-0.1       ,  4.22777778]]),\n",
       " array([[-2.35277583],\n",
       "        [-2.49191848]]),\n",
       " array([[37.8170766]]))"
      ]
     },
     "execution_count": 13,
     "metadata": {},
     "output_type": "execute_result"
    }
   ],
   "source": [
    "GaussianDiscriminantAnalysis(X1,X2)"
   ]
  },
  {
   "cell_type": "code",
   "execution_count": 16,
   "metadata": {},
   "outputs": [],
   "source": [
    "import numpy as np\n",
    "import matplotlib.pyplot as plt\n",
    "\n",
    "def plot_data_and_decision_boundary(X1, X2, w, w0):\n",
    "    # Plot the data points\n",
    "    plt.scatter(X1[0, :], X1[1, :], marker='o', color='r', label='Class 1')\n",
    "    plt.scatter(X2[0, :], X2[1, :], marker='x', color='b', label='Class 2')\n",
    "    plt.legend()\n",
    "    \n",
    "    # Plot the decision boundary\n",
    "    x_min = np.min([X1[0, :], X2[0, :]]) - 1\n",
    "    x_max = np.max([X1[0, :], X2[0, :]]) + 1\n",
    "    y_min = np.min([X1[1, :], X2[1, :]]) - 1\n",
    "    y_max = np.max([X1[1, :], X2[1, :]]) + 1\n",
    "    \n",
    "    xx, yy = np.meshgrid(np.linspace(x_min, x_max, 100), np.linspace(y_min, y_max, 100))\n",
    "    Z = w0 + w[0] * xx + w[1] * yy\n",
    "    plt.contour(xx, yy, Z, levels=[0], colors='k')\n",
    "    \n",
    "    plt.xlim(x_min, x_max)\n",
    "    plt.ylim(y_min, y_max)\n",
    "    plt.xlabel('x1')\n",
    "    plt.ylabel('x2')\n",
    "    plt.title('Gaussian Discriminant Analysis')\n",
    "    plt.show()\n"
   ]
  },
  {
   "cell_type": "code",
   "execution_count": 17,
   "metadata": {},
   "outputs": [
    {
     "data": {
      "image/png": "[encoded data removed]",
      "text/plain": [
       "<Figure size 432x288 with 1 Axes>"
      ]
     },
     "metadata": {
      "needs_background": "light"
     },
     "output_type": "display_data"
    }
   ],
   "source": [
    "prior_prob_class1, mean_vector_X1, mean_vector_X2, S1, S2, S, w, w0 = GaussianDiscriminantAnalysis(X1, X2)\n",
    "plot_data_and_decision_boundary(X1, X2, w, w0)"
   ]
  },
  {
   "cell_type": "code",
   "execution_count": 21,
   "metadata": {},
   "outputs": [],
   "source": [
    "a = np.linalg.inv(S)"
   ]
  },
  {
   "cell_type": "code",
   "execution_count": 22,
   "metadata": {},
   "outputs": [],
   "source": [
    "b = mean_vector_X1-mean_vector_X2"
   ]
  },
  {
   "cell_type": "code",
   "execution_count": 24,
   "metadata": {},
   "outputs": [
    {
     "data": {
      "text/plain": [
       "array([[-2.35277583],\n",
       "       [-2.49191848]])"
      ]
     },
     "execution_count": 24,
     "metadata": {},
     "output_type": "execute_result"
    }
   ],
   "source": [
    "a.dot(b)"
   ]
  },
  {
   "cell_type": "code",
   "execution_count": 27,
   "metadata": {},
   "outputs": [
    {
     "data": {
      "text/plain": [
       "array([[10., 14.]])"
      ]
     },
     "execution_count": 27,
     "metadata": {},
     "output_type": "execute_result"
    }
   ],
   "source": [
    "np.matrix.transpose(mean_vector_X2)"
   ]
  },
  {
   "cell_type": "code",
   "execution_count": 26,
   "metadata": {},
   "outputs": [
    {
     "data": {
      "text/plain": [
       "array([[3.4],\n",
       "       [3.7]])"
      ]
     },
     "execution_count": 26,
     "metadata": {},
     "output_type": "execute_result"
    }
   ],
   "source": [
    "mean_vector_X1"
   ]
  },
  {
   "cell_type": "code",
   "execution_count": null,
   "metadata": {},
   "outputs": [],
   "source": []
  }
 ],
 "metadata": {
  "kernelspec": {
   "display_name": "Python 3",
   "language": "python",
   "name": "python3"
  },
  "language_info": {
   "codemirror_mode": {
    "name": "ipython",
    "version": 3
   },
   "file_extension": ".py",
   "mimetype": "text/x-python",
   "name": "python",
   "nbconvert_exporter": "python",
   "pygments_lexer": "ipython3",
   "version": "3.8.5"
  }
 },
 "nbformat": 4,
 "nbformat_minor": 4
}
