{
 "cells": [
  {
   "cell_type": "markdown",
   "metadata": {},
   "source": [
    "# Assignment 2 Part c"
   ]
  },
  {
   "cell_type": "markdown",
   "metadata": {},
   "source": [
    "## Load the Dataset"
   ]
  },
  {
   "cell_type": "code",
   "execution_count": 1,
   "metadata": {},
   "outputs": [],
   "source": [
    "import numpy as np\n",
    "import scipy.io as sio\n",
    "from KNearestNeighbour import KNearestNeighbour\n",
    "\n",
    "# Load the Fisher's Iris dataset\n",
    "data = sio.loadmat('fisheririsEE4146.mat')\n",
    "IrisMeasurements = data['IrisMeasurements']\n",
    "IrisClass = data['IrisClass'].flatten()"
   ]
  },
  {
   "cell_type": "markdown",
   "metadata": {},
   "source": [
    "## Split the dataset into training, validation, and test sets"
   ]
  },
  {
   "cell_type": "code",
   "execution_count": 2,
   "metadata": {},
   "outputs": [],
   "source": [
    "# Split the dataset into training, validation, and test sets\n",
    "TrainMeasurements = IrisMeasurements[:50, :]\n",
    "TrainClass = IrisClass[:50]\n",
    "ValidationMeasurements = IrisMeasurements[50:100, :]\n",
    "ValidationClass = IrisClass[50:100]\n",
    "TestMeasurements = IrisMeasurements[100:, :]"
   ]
  },
  {
   "cell_type": "markdown",
   "metadata": {},
   "source": [
    "## Set K value and test even K values in range 1 to 21"
   ]
  },
  {
   "cell_type": "code",
   "execution_count": 3,
   "metadata": {},
   "outputs": [
    {
     "name": "stdout",
     "output_type": "stream",
     "text": [
      "K = 2, Accuracy = 100.00%\n",
      "K = 4, Accuracy = 100.00%\n",
      "K = 6, Accuracy = 100.00%\n",
      "K = 8, Accuracy = 100.00%\n",
      "K = 10, Accuracy = 100.00%\n",
      "K = 12, Accuracy = 100.00%\n",
      "K = 14, Accuracy = 100.00%\n",
      "K = 16, Accuracy = 96.00%\n",
      "K = 18, Accuracy = 98.00%\n",
      "K = 20, Accuracy = 98.00%\n"
     ]
    }
   ],
   "source": [
    "# Initialize variables for the best K value and its corresponding accuracy\n",
    "best_K = None\n",
    "best_accuracy = 0\n",
    "\n",
    "# Test even K values in the range 1 to 21\n",
    "for K in range(2, 22, 2):\n",
    "    # Use KNearestNeighbour function to classify the validation set\n",
    "    predicted_labels = KNearestNeighbour(ValidationMeasurements, TrainMeasurements, TrainClass, K)\n",
    "\n",
    "    # Calculate the accuracy for the current K value\n",
    "    accuracy = np.sum(predicted_labels == ValidationClass) / len(ValidationClass)\n",
    "    print(f\"K = {K}, Accuracy = {accuracy * 100:.2f}%\")\n",
    "\n",
    "    # Update the best K value and its corresponding accuracy if necessary\n",
    "    if accuracy > best_accuracy:\n",
    "        best_accuracy = accuracy\n",
    "        best_K = K"
   ]
  },
  {
   "cell_type": "markdown",
   "metadata": {},
   "source": [
    "## Combine the training and validation sets for the final evaluation"
   ]
  },
  {
   "cell_type": "code",
   "execution_count": 4,
   "metadata": {},
   "outputs": [],
   "source": [
    "# Combine the training and validation sets for the final evaluation\n",
    "TrainMeasurements = np.vstack((TrainMeasurements, ValidationMeasurements))\n",
    "TrainClass = np.hstack((TrainClass, ValidationClass))"
   ]
  },
  {
   "cell_type": "markdown",
   "metadata": {},
   "source": [
    "## Use the best K value to classify the test set"
   ]
  },
  {
   "cell_type": "code",
   "execution_count": 5,
   "metadata": {},
   "outputs": [
    {
     "name": "stdout",
     "output_type": "stream",
     "text": [
      "\n",
      "Best K value: 2\n",
      "Test accuracy: 92.00%\n"
     ]
    }
   ],
   "source": [
    "# Use the best K value to classify the test set\n",
    "predicted_labels = KNearestNeighbour(TestMeasurements, TrainMeasurements, TrainClass, best_K)\n",
    "test_accuracy = np.sum(predicted_labels == IrisClass[100:]) / len(IrisClass[100:])\n",
    "\n",
    "# Print the results\n",
    "print(f\"\\nBest K value: {best_K}\")\n",
    "print(f\"Test accuracy: {test_accuracy * 100:.2f}%\")"
   ]
  }
 ],
 "metadata": {
  "kernelspec": {
   "display_name": "Python 3",
   "language": "python",
   "name": "python3"
  },
  "language_info": {
   "codemirror_mode": {
    "name": "ipython",
    "version": 3
   },
   "file_extension": ".py",
   "mimetype": "text/x-python",
   "name": "python",
   "nbconvert_exporter": "python",
   "pygments_lexer": "ipython3",
   "version": "3.8.5"
  }
 },
 "nbformat": 4,
 "nbformat_minor": 4
}
