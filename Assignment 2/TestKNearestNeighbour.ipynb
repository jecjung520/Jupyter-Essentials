{
 "cells": [
  {
   "cell_type": "markdown",
   "metadata": {},
   "source": [
    "# Assignment 2 Part b"
   ]
  },
  {
   "cell_type": "markdown",
   "metadata": {},
   "source": [
    "## Load the Dataset"
   ]
  },
  {
   "cell_type": "code",
   "execution_count": 1,
   "metadata": {},
   "outputs": [],
   "source": [
    "import numpy as np\n",
    "import scipy.io as sio\n",
    "from KNearestNeighbour import KNearestNeighbour\n",
    "\n",
    "# Load the Fisher's Iris dataset\n",
    "data = sio.loadmat('fisheririsEE4146.mat')\n",
    "IrisMeasurements = data['IrisMeasurements']\n",
    "IrisClass = data['IrisClass'].flatten()"
   ]
  },
  {
   "cell_type": "markdown",
   "metadata": {},
   "source": [
    "## Split dataset into training and test sets"
   ]
  },
  {
   "cell_type": "code",
   "execution_count": 2,
   "metadata": {},
   "outputs": [],
   "source": [
    "# Split the dataset into training and test sets\n",
    "TrainMeasurements = IrisMeasurements[:100, :]\n",
    "TrainClass = IrisClass[:100]\n",
    "TestMeasurements = IrisMeasurements[100:, :]"
   ]
  },
  {
   "cell_type": "markdown",
   "metadata": {},
   "source": [
    "## Set K value and classify test set"
   ]
  },
  {
   "cell_type": "code",
   "execution_count": 3,
   "metadata": {},
   "outputs": [
    {
     "name": "stdout",
     "output_type": "stream",
     "text": [
      "Predicted labels: [1 2 1 3 2 1 3 2 1 3 2 1 3 3 1 2 1 1 3 2 1 1 1 2 3 2 2 1 1 2 1 1 3 3 3 1 3\n",
      " 3 1 1 2 3 2 3 1 2 3 1 1 3]\n"
     ]
    }
   ],
   "source": [
    "# Set K value\n",
    "K = 5\n",
    "\n",
    "# Use KNearestNeighbour function to classify the test set\n",
    "predicted_labels = KNearestNeighbour(TestMeasurements, TrainMeasurements, TrainClass, K)\n",
    "\n",
    "# Print the results\n",
    "print(\"Predicted labels:\", predicted_labels)"
   ]
  }
 ],
 "metadata": {
  "kernelspec": {
   "display_name": "Python 3",
   "language": "python",
   "name": "python3"
  },
  "language_info": {
   "codemirror_mode": {
    "name": "ipython",
    "version": 3
   },
   "file_extension": ".py",
   "mimetype": "text/x-python",
   "name": "python",
   "nbconvert_exporter": "python",
   "pygments_lexer": "ipython3",
   "version": "3.8.5"
  }
 },
 "nbformat": 4,
 "nbformat_minor": 4
}
