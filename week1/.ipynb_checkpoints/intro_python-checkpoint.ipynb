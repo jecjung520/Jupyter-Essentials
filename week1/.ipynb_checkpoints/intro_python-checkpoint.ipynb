{
 "cells": [
  {
   "cell_type": "markdown",
   "metadata": {},
   "source": [
    "## Installing Python, Jupyter Lab, OpenCV and Scikit-image\n",
    "\n",
    "It is possible to install and run Python entirely from your own computer.  The first step is to install Python 3.7.3  as of August 2019, this is the latest version of Python 3.  I recommend using the Anaconda release of Python, as it already includes many of the data science related packages that will be needed by this class.  Anaconda directly supports: Windows, Mac and Linux.  Download Anaconda from the following URL:\n",
    "\n",
    "* [Anaconda](https://www.continuum.io/downloads)\n",
    "\n",
    "OpenCV is a well-known real-time video processing library. To install OpenCV for Python:\n",
    "\n",
    "```\n",
    "pip install opencv-python\n",
    "\n",
    "```\n",
    "\n",
    "Scikit-image is a relatively new image projcessing library for Python. To install Scikit-image for Python:\n",
    "\n",
    "```\n",
    "pip install scikit-image\n",
    "\n",
    "```\n",
    "\n",
    "Jupyter lab is not pre-installed with Anaconda, while you can install with with the following command:\n",
    "\n",
    "```\n",
    "pip install jupyterlab\n",
    "```\n",
    "\n",
    "Once Jupyter Lab is installed, it is started with the following command:\n",
    "\n",
    "```\n",
    "jupyter lab\n",
    "```\n"
   ]
  },
  {
   "cell_type": "markdown",
   "metadata": {},
   "source": [
    "# Python Introduction\n",
    "\n",
    "\n",
    "* [Anaconda v3.5](https://www.continuum.io/downloads) Scientific Python Distribution, including:\n",
    "    * [Scikit-Image](http://scikit-image.org/)\n",
    "    * Others: csv, json, numpy, scipy\n",
    "* [Jupyter Lab](https://jupyterlab.readthedocs.io/en/stable/)\n",
    "* [PyCharm IDE](https://www.jetbrains.com/pycharm/)\n",
    "* [Cx_Oracle](http://cx-oracle.sourceforge.net/)\n",
    "* [MatPlotLib](http://matplotlib.org/)\n",
    "\n",
    "## Jupyter Notebooks\n",
    "\n",
    "Space matters in Python, indent code to define blocks\n",
    "\n",
    "Jupyter Lab Allow Python and Markdown to coexist.\n",
    "\n",
    "Even $\\LaTeX$:\n",
    "\n",
    "$ f'(x) = \\lim_{h\\to0} \\frac{f(x+h) - f(x)}{h}. $"
   ]
  },
  {
   "cell_type": "code",
   "execution_count": 2,
   "metadata": {},
   "outputs": [
    {
     "name": "stdout",
     "output_type": "stream",
     "text": [
      "\n",
      "Python 3.7.3 (default, Mar 27 2019, 09:23:15) \n",
      "[Clang 10.0.1 (clang-1001.0.46.3)]\n",
      "numpy 1.16.4\n",
      "Scikit-Image 0.15.0\n",
      "OpenCV 4.1.0\n"
     ]
    }
   ],
   "source": [
    "# What version of Python do you have?\n",
    "\n",
    "import sys\n",
    "import numpy as np\n",
    "import skimage\n",
    "import cv2\n",
    "\n",
    "print()\n",
    "print(\"Python {}\".format(sys.version))\n",
    "print('numpy {}'.format(np.__version__))\n",
    "print('Scikit-Image {}'.format(skimage.__version__))\n",
    "print('OpenCV {}'.format(cv2.__version__))"
   ]
  },
  {
   "cell_type": "markdown",
   "metadata": {},
   "source": [
    "Software used in this class:\n",
    "    \n",
    "* **Python** - The programming language.\n",
    "* **Numpy** - Matrix Computation\n",
    "* **Scikit-Image** - Image Processing framework for Python.  Tutorial [here](http://scikit-image.org/docs/stable/auto_examples/).\n",
    "* **OpenCV** - Real-Time Image Processing.  Tutorial [here](http://opencv-python-tutroals.readthedocs.io/en/latest/py_tutorials/py_imgproc/py_table_of_contents_imgproc/py_table_of_contents_imgproc.html). "
   ]
  },
  {
   "cell_type": "markdown",
   "metadata": {},
   "source": [
    "## Introduction to Python Programming Language\n",
    "\n",
    "Python is a clean and powerful programming language. You can use it to build websites, analyze data, write utilities, and create many other kinds of software. It's become a tradition that when you learn a new programming language, you start with a program that prints the message \"Hello world.\" "
   ]
  },
  {
   "cell_type": "code",
   "execution_count": 3,
   "metadata": {},
   "outputs": [
    {
     "name": "stdout",
     "output_type": "stream",
     "text": [
      "Hello world!!\n"
     ]
    }
   ],
   "source": [
    "print(\"Hello world!!\")"
   ]
  },
  {
   "cell_type": "markdown",
   "metadata": {},
   "source": [
    "## String\n",
    "\n",
    "There are three differnt ways to create strings in Python.  While most languages gives you a single way to construct a string, Python gives you three ways. This makes it easy to make any kind of string without having to escape characters. "
   ]
  },
  {
   "cell_type": "code",
   "execution_count": 4,
   "metadata": {},
   "outputs": [
    {
     "name": "stdout",
     "output_type": "stream",
     "text": [
      "Hello world\n",
      "Hello world\n",
      "I'm looking for someone to share in an adventure.\n",
      "I'm looking for someone to share in an adventure.\n",
      "The phrase \"Beam me up, Scotty\" was never said on Star Trek\n",
      "One of my favorite lines from The Godfather is :\n",
      "I'm going to make him an offer he can't refuse.:\n",
      "Do you know who said this?\n"
     ]
    }
   ],
   "source": [
    "message1 = \"Hello world\"\n",
    "message2 = 'Hello world'\n",
    "message3 = 'I\\'m looking for someone to share in an adventure.'\n",
    "message4 = \"I'm looking for someone to share in an adventure.\"\n",
    "message5 = 'The phrase \"Beam me up, Scotty\" was never said on Star Trek'\n",
    "message6 = \"\"\"One of my favorite lines from The Godfather is :\n",
    "I'm going to make him an offer he can't refuse.:\n",
    "Do you know who said this?\"\"\"\n",
    "\n",
    "print(message1)\n",
    "print(message2)\n",
    "print(message3)\n",
    "print(message4)\n",
    "print(message5)\n",
    "print(message6)"
   ]
  },
  {
   "cell_type": "markdown",
   "metadata": {},
   "source": [
    "## Python 3 Data Types: int, float and complex\n",
    "\n",
    "There are three types of numbers in Python V3: ints, floats and complex numbers. This is simpler than in Python V2 which had four types of numbers: ints, longs, floats and complex numbers.  "
   ]
  },
  {
   "cell_type": "code",
   "execution_count": 5,
   "metadata": {},
   "outputs": [
    {
     "name": "stdout",
     "output_type": "stream",
     "text": [
      "Date type of '5806' :  <class 'int'>\n",
      "Date type of '2.178' :  <class 'float'>\n",
      "Date type of '2 - 6.1j' :  <class 'complex'>\n"
     ]
    }
   ],
   "source": [
    "# Types of numbers: int, float, complex\n",
    "\n",
    "# Integer data type\n",
    "a = 5806 \n",
    "print(\"Date type of '5806' : \", type(a))\n",
    "\n",
    "# Floating point data type\n",
    "f = 2.718 \n",
    "print(\"Date type of '2.178' : \", type(f))\n",
    "\n",
    "# Complex number data type with j equal to square root of -1\n",
    "z = 2 - 6.1j \n",
    "print(\"Date type of '2 - 6.1j' : \", type(z))\n",
    "      "
   ]
  },
  {
   "cell_type": "markdown",
   "metadata": {},
   "source": [
    "## Arithmetic\n",
    "\n",
    "The rules of arithmetic is about the key detail when combining two numbers, in which Python will widen numbers to make sure they are all of the same type. Also, when you divide two whole numbers, Python will return the quotient, not the mathematical value. \n"
   ]
  },
  {
   "cell_type": "code",
   "execution_count": 6,
   "metadata": {},
   "outputs": [
    {
     "name": "stdout",
     "output_type": "stream",
     "text": [
      "Date type of 'f' :  <class 'float'>\n",
      "Date type of 'i' :  <class 'int'>\n",
      "Date type of 'zz' :  <class 'complex'>\n",
      "Sum of x and y is type of: <class 'float'>\n",
      "Sum of x and z is type of: <class 'complex'>\n",
      "Sum of y and z is type of: <class 'complex'>\n"
     ]
    }
   ],
   "source": [
    "# Numbers: int float, complex\n",
    "# Operations: + - * /\n",
    "\n",
    "x = 28 # int\n",
    "y = 5.0 # float\n",
    "z = 7.0 + 0j # complex\n",
    "\n",
    "# Change of data type\n",
    "f = float(x)\n",
    "i = int(y)\n",
    "zz = x + 0j\n",
    "print(\"Date type of 'f' : \", type(f))\n",
    "print(\"Date type of 'i' : \", type(i))\n",
    "print(\"Date type of 'zz' : \", type(zz))\n",
    "\n",
    "# ints are narrower than floats and floats are narrower than complex\n",
    "# float are wider than ints and complex are wider than floats\n",
    "\n",
    "print(\"Sum of x and y is type of:\", type(x + y))\n",
    "print(\"Sum of x and z is type of:\", type(x + z))\n",
    "print(\"Sum of y and z is type of:\", type(y + z))"
   ]
  },
  {
   "cell_type": "markdown",
   "metadata": {},
   "source": [
    "## Booleans\n",
    "\n",
    "While Python has several numeric types, there is only one logical type: booleans. A boolean can only take 2 values: True or False. "
   ]
  },
  {
   "cell_type": "code",
   "execution_count": 7,
   "metadata": {},
   "outputs": [
    {
     "name": "stdout",
     "output_type": "stream",
     "text": [
      "False\n",
      "True\n",
      "False\n",
      "True\n",
      "Type of True and False\n",
      "<class 'bool'>\n",
      "<class 'bool'>\n",
      "bool construtor:\n",
      "True\n",
      "True\n",
      "True\n",
      "False\n"
     ]
    }
   ],
   "source": [
    "a = 3\n",
    "b = 5\n",
    "\n",
    "print(a == b)\n",
    "print(a != b)\n",
    "print(a > b)\n",
    "print(a < b)\n",
    "\n",
    "print(\"Type of True and False\")\n",
    "print(type(True))\n",
    "print(type(False))\n",
    "\n",
    "print(\"bool construtor:\")\n",
    "print(bool(28))\n",
    "print(bool(-2.15))\n",
    "print(bool(\" \"))\n",
    "print(bool(\"\"))"
   ]
  },
  {
   "cell_type": "markdown",
   "metadata": {},
   "source": [
    "## If, Then, Else\n",
    "\n",
    "When coding in Python, you will frequently encounter a fork in the road. Depending on the values of certain data, you may want to go in one direction or the other. There may even be more than two directions for you to choose. The if-then-else statements help you navigate these situations. "
   ]
  },
  {
   "cell_type": "code",
   "execution_count": 8,
   "metadata": {},
   "outputs": [
    {
     "name": "stdout",
     "output_type": "stream",
     "text": [
      "a is less than b\n"
     ]
    }
   ],
   "source": [
    "a = 5\n",
    "b = 8\n",
    "\n",
    "if a < b:\n",
    "    print(\"a is less than b\")\n",
    "elif a == b:\n",
    "    print(\"a is equal b\")\n",
    "else:\n",
    "    print(\"a is greater than b\")"
   ]
  },
  {
   "cell_type": "markdown",
   "metadata": {},
   "source": [
    "## Functions\n",
    "\n",
    "Functions are essential to Python programming. In this tutorial, we teach you how to create a function, and cover the two types of arguments: required arguments and keyword arguments."
   ]
  },
  {
   "cell_type": "code",
   "execution_count": 9,
   "metadata": {},
   "outputs": [
    {
     "data": {
      "text/plain": [
       "11"
      ]
     },
     "execution_count": 9,
     "metadata": {},
     "output_type": "execute_result"
    }
   ],
   "source": [
    "def f(a,b):\n",
    "    sum = a + b\n",
    "    return sum\n",
    "\n",
    "f(5,6)"
   ]
  },
  {
   "cell_type": "markdown",
   "metadata": {},
   "source": [
    "## Count to 10 in Python\n",
    "\n",
    "Use a `for` loop and a `range`."
   ]
  },
  {
   "cell_type": "code",
   "execution_count": 10,
   "metadata": {},
   "outputs": [
    {
     "name": "stdout",
     "output_type": "stream",
     "text": [
      "1\n",
      "2\n",
      "3\n",
      "4\n",
      "5\n",
      "6\n",
      "7\n",
      "8\n",
      "9\n",
      "10\n",
      "11\n",
      "12\n",
      "13\n",
      "14\n",
      "15\n",
      "16\n",
      "17\n",
      "18\n",
      "19\n"
     ]
    }
   ],
   "source": [
    "# Python cares about space!  No curly braces.\n",
    "for x in range(1,20): \n",
    "    print(x)\n"
   ]
  },
  {
   "cell_type": "markdown",
   "metadata": {},
   "source": [
    "Printing Numbers and Strings\n",
    "============================"
   ]
  },
  {
   "cell_type": "code",
   "execution_count": 11,
   "metadata": {},
   "outputs": [
    {
     "name": "stdout",
     "output_type": "stream",
     "text": [
      "Adding 1, sum so far is 1\n",
      "Adding 2, sum so far is 3\n",
      "Adding 3, sum so far is 6\n",
      "Adding 4, sum so far is 10\n",
      "Adding 5, sum so far is 15\n",
      "Adding 6, sum so far is 21\n",
      "Adding 7, sum so far is 28\n",
      "Adding 8, sum so far is 36\n",
      "Adding 9, sum so far is 45\n",
      "Adding 10, sum so far is 55\n",
      "Adding 11, sum so far is 66\n",
      "Adding 12, sum so far is 78\n",
      "Adding 13, sum so far is 91\n",
      "Adding 14, sum so far is 105\n",
      "Adding 15, sum so far is 120\n",
      "Adding 16, sum so far is 136\n",
      "Adding 17, sum so far is 153\n",
      "Adding 18, sum so far is 171\n",
      "Adding 19, sum so far is 190\n",
      "Final sum: 190\n"
     ]
    }
   ],
   "source": [
    "sum = 0\n",
    "for x in range(1,20):\n",
    "    sum += x\n",
    "    print(\"Adding {}, sum so far is {}\".format(x,sum))\n",
    "    \n",
    "print(\"Final sum: {}\".format(sum))"
   ]
  },
  {
   "cell_type": "markdown",
   "metadata": {},
   "source": [
    "Lists\n",
    "============"
   ]
  },
  {
   "cell_type": "code",
   "execution_count": 12,
   "metadata": {},
   "outputs": [
    {
     "name": "stdout",
     "output_type": "stream",
     "text": [
      "['a', 'b', 'c', 'd', 'e']\n"
     ]
    }
   ],
   "source": [
    "c = ['a', 'b', 'c', 'd', 'e']\n",
    "print(c)"
   ]
  },
  {
   "cell_type": "code",
   "execution_count": 13,
   "metadata": {},
   "outputs": [
    {
     "name": "stdout",
     "output_type": "stream",
     "text": [
      "a\n",
      "b\n",
      "c\n",
      "d\n",
      "e\n"
     ]
    }
   ],
   "source": [
    "# Iterate over a list.\n",
    "for s in c:\n",
    "    print(s)"
   ]
  },
  {
   "cell_type": "code",
   "execution_count": 14,
   "metadata": {},
   "outputs": [
    {
     "name": "stdout",
     "output_type": "stream",
     "text": [
      "0:a\n",
      "1:b\n",
      "2:c\n",
      "3:d\n",
      "4:e\n"
     ]
    }
   ],
   "source": [
    "# Iterate over a list, and know where your index.  (Python is zero-based!)\n",
    "for i,c in enumerate(c):\n",
    "    print(\"{}:{}\".format(i,c))"
   ]
  },
  {
   "cell_type": "code",
   "execution_count": 15,
   "metadata": {},
   "outputs": [
    {
     "name": "stdout",
     "output_type": "stream",
     "text": [
      "['a', 'b', 'c', 'c']\n"
     ]
    }
   ],
   "source": [
    "# Manually add items, lists allow duplicates\n",
    "c = []\n",
    "c.append('a')\n",
    "c.append('b')\n",
    "c.append('c')\n",
    "c.append('c')\n",
    "print(c)"
   ]
  },
  {
   "cell_type": "code",
   "execution_count": 16,
   "metadata": {},
   "outputs": [
    {
     "name": "stdout",
     "output_type": "stream",
     "text": [
      "['a0', 'a', 'b', 'c']\n",
      "['a0', 'a', 'c']\n",
      "['a', 'c']\n"
     ]
    }
   ],
   "source": [
    "# Insert\n",
    "c = ['a','b','c']\n",
    "c.insert(0,'a0')\n",
    "print(c)\n",
    "# Remove\n",
    "c.remove('b')\n",
    "print(c)\n",
    "# Remove at index\n",
    "del c[0]\n",
    "print(c)"
   ]
  },
  {
   "cell_type": "markdown",
   "metadata": {},
   "source": [
    "## Sets"
   ]
  },
  {
   "cell_type": "code",
   "execution_count": 17,
   "metadata": {},
   "outputs": [
    {
     "name": "stdout",
     "output_type": "stream",
     "text": [
      "{'a', 'b', 'c'}\n"
     ]
    }
   ],
   "source": [
    "# Manually add items, sets do not allow duplicates\n",
    "# Sets add, lists append.  I find this annoying.\n",
    "c = set()\n",
    "c.add('a')\n",
    "c.add('b')\n",
    "c.add('c')\n",
    "c.add('c')\n",
    "print(c)"
   ]
  },
  {
   "cell_type": "markdown",
   "metadata": {},
   "source": [
    "## Dictionaries\n",
    "\n",
    "Python dictionaries allow you to store key/value data. Learn how to create, use, modify, and iterate over the data inside a Python dictionary."
   ]
  },
  {
   "cell_type": "code",
   "execution_count": 18,
   "metadata": {},
   "outputs": [
    {
     "name": "stdout",
     "output_type": "stream",
     "text": [
      "{'name': 'Peter', 'address': 'Kowloon Tong 123'}\n",
      "Peter\n",
      "Name is defined\n",
      "age undefined\n"
     ]
    }
   ],
   "source": [
    "dict = { 'name': \"Peter\", 'address':\"Kowloon Tong 123\"}\n",
    "print(dict)\n",
    "print(dict['name'])\n",
    "\n",
    "if 'name' in dict:\n",
    "    print(\"Name is defined\")\n",
    "    \n",
    "if 'age' in dict:\n",
    "    print(\"age defined\")\n",
    "else:\n",
    "    print(\"age undefined\")"
   ]
  },
  {
   "cell_type": "code",
   "execution_count": 19,
   "metadata": {},
   "outputs": [
    {
     "name": "stdout",
     "output_type": "stream",
     "text": [
      "Key: dict_keys(['name', 'address'])\n",
      "Values: dict_values(['Peter', 'Kowloon Tong 123'])\n"
     ]
    }
   ],
   "source": [
    "dict = { 'name': \"Peter\", 'address':\"Kowloon Tong 123\"}\n",
    "# All of the keys\n",
    "print(\"Key: {}\".format(dict.keys()))\n",
    "\n",
    "# All of the values\n",
    "print(\"Values: {}\".format(dict.values()))"
   ]
  },
  {
   "cell_type": "code",
   "execution_count": 20,
   "metadata": {},
   "outputs": [
    {
     "name": "stdout",
     "output_type": "stream",
     "text": [
      "[{'name': 'Peter & Mary', 'pets': ['Wynton', 'Cricket']}, {'name': 'John Smith', 'pets': ['rover']}, {'name': 'Jane Doe'}]\n",
      "Peter & Mary:['Wynton', 'Cricket']\n",
      "John Smith:['rover']\n",
      "Jane Doe:no pets\n"
     ]
    }
   ],
   "source": [
    "# Python list & dict structures \n",
    "customers = [\n",
    "    {'name': 'Peter & Mary', 'pets': ['Wynton','Cricket']},\n",
    "    {'name': 'John Smith', 'pets': ['rover']},\n",
    "    {'name': 'Jane Doe'}\n",
    "]\n",
    "\n",
    "print(customers)\n",
    "\n",
    "for customer in customers:\n",
    "    print(\"{}:{}\".format(customer['name'],customer.get('pets','no pets')))"
   ]
  },
  {
   "cell_type": "code",
   "execution_count": null,
   "metadata": {
    "collapsed": true,
    "jupyter": {
     "outputs_hidden": true
    }
   },
   "outputs": [],
   "source": []
  },
  {
   "cell_type": "code",
   "execution_count": null,
   "metadata": {},
   "outputs": [],
   "source": []
  }
 ],
 "metadata": {
  "anaconda-cloud": {},
  "kernelspec": {
   "display_name": "Python 3",
   "language": "python",
   "name": "python3"
  },
  "language_info": {
   "codemirror_mode": {
    "name": "ipython",
    "version": 3
   },
   "file_extension": ".py",
   "mimetype": "text/x-python",
   "name": "python",
   "nbconvert_exporter": "python",
   "pygments_lexer": "ipython3",
   "version": "3.7.3"
  }
 },
 "nbformat": 4,
 "nbformat_minor": 4
}
